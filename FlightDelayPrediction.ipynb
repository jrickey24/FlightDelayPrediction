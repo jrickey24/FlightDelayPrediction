{
  "nbformat": 4,
  "nbformat_minor": 0,
  "metadata": {
    "colab": {
      "name": "FlightDelayPrediction.ipynb",
      "provenance": [],
      "collapsed_sections": [],
      "authorship_tag": "ABX9TyM2J5kPctXC/Q9d++z1pIoz",
      "include_colab_link": true
    },
    "kernelspec": {
      "name": "python3",
      "display_name": "Python 3"
    },
    "language_info": {
      "name": "python"
    }
  },
  "cells": [
    {
      "cell_type": "markdown",
      "metadata": {
        "id": "view-in-github",
        "colab_type": "text"
      },
      "source": [
        "<a href=\"https://colab.research.google.com/github/jrickey24/FlightDelayPrediction/blob/main/FlightDelayPrediction.ipynb\" target=\"_parent\"><img src=\"https://colab.research.google.com/assets/colab-badge.svg\" alt=\"Open In Colab\"/></a>"
      ]
    },
    {
      "cell_type": "code",
      "execution_count": 1,
      "metadata": {
        "id": "mGEehFVjlSdx"
      },
      "outputs": [],
      "source": [
        "import pickle\n",
        "import numpy as np\n",
        "import pandas as pd\n",
        "import matplotlib.pyplot as plt\n",
        "from xgboost import XGBClassifier\n",
        "from sklearn import metrics\n",
        "from sklearn.ensemble import RandomForestClassifier\n",
        "from sklearn.linear_model import LogisticRegression\n",
        "from sklearn.model_selection import train_test_split\n",
        "from sklearn.metrics import classification_report, confusion_matrix, accuracy_score"
      ]
    },
    {
      "cell_type": "code",
      "source": [
        "# Import From GitHub Repo Raw Text\n",
        "csv_url_1 = 'https://raw.githubusercontent.com/jrickey24/MLDatasets/main/Airlines.csv' # Original File With All Airlines\n",
        "csv_url_2 = 'https://raw.githubusercontent.com/jrickey24/MLDatasets/main/AirlinesRevised.csv' # AA, AS, DL, UA, US Airlines Only\n",
        "csv_url_3 = 'https://raw.githubusercontent.com/jrickey24/MLDatasets/main/Airlines_AA_DL_UA.csv' # AA, DL, UA Airlines Only\n",
        "csv_url_4 = 'https://raw.githubusercontent.com/jrickey24/MLDatasets/main/Airlines_OG.csv' # OG Full Data Set\n",
        "df = pd.read_csv(csv_url_4)\n",
        "# Removing id & Flight(number)as these aren't useful classifiers\n",
        "# Removing Time(duration of flight) & Length(distance of flight)\n",
        "# The Relationship Between the AirportFrom & AirportTo Correspond to Time and Length\n",
        "#df.drop(['id', 'Flight', 'Length', 'Time'], axis='columns', inplace=True)\n",
        "df.drop(['id', 'Flight'], axis='columns', inplace=True)\n",
        "df.drop_duplicates()\n",
        "#df.head(10) # Read First 10 Rows From CSV File"
      ],
      "metadata": {
        "colab": {
          "base_uri": "https://localhost:8080/",
          "height": 424
        },
        "id": "FsmjO9Zguy_8",
        "outputId": "e0a1d0c5-2706-48d9-f7af-e0da7c8ee7bc"
      },
      "execution_count": 2,
      "outputs": [
        {
          "output_type": "execute_result",
          "data": {
            "text/plain": [
              "       Airline AirportFrom AirportTo  DayOfWeek  Time  Length  Delay\n",
              "0           CO         SFO       IAH          3    15     205      1\n",
              "1           US         PHX       CLT          3    15     222      1\n",
              "2           AA         LAX       DFW          3    20     165      1\n",
              "3           AA         SFO       DFW          3    20     195      1\n",
              "4           AS         ANC       SEA          3    30     202      0\n",
              "...        ...         ...       ...        ...   ...     ...    ...\n",
              "539363      DL         SLC       JFK          5  1425     264      1\n",
              "539365      US         KOA       PHX          5  1425     349      1\n",
              "539367      UA         HNL       LAX          5  1428     333      0\n",
              "539374      DL         LAX       ATL          5  1435     255      0\n",
              "539377      B6         JFK       PSE          5  1439     223      1\n",
              "\n",
              "[315754 rows x 7 columns]"
            ],
            "text/html": [
              "\n",
              "  <div id=\"df-071484d9-54e7-4c3b-9012-7ba136fb04e2\">\n",
              "    <div class=\"colab-df-container\">\n",
              "      <div>\n",
              "<style scoped>\n",
              "    .dataframe tbody tr th:only-of-type {\n",
              "        vertical-align: middle;\n",
              "    }\n",
              "\n",
              "    .dataframe tbody tr th {\n",
              "        vertical-align: top;\n",
              "    }\n",
              "\n",
              "    .dataframe thead th {\n",
              "        text-align: right;\n",
              "    }\n",
              "</style>\n",
              "<table border=\"1\" class=\"dataframe\">\n",
              "  <thead>\n",
              "    <tr style=\"text-align: right;\">\n",
              "      <th></th>\n",
              "      <th>Airline</th>\n",
              "      <th>AirportFrom</th>\n",
              "      <th>AirportTo</th>\n",
              "      <th>DayOfWeek</th>\n",
              "      <th>Time</th>\n",
              "      <th>Length</th>\n",
              "      <th>Delay</th>\n",
              "    </tr>\n",
              "  </thead>\n",
              "  <tbody>\n",
              "    <tr>\n",
              "      <th>0</th>\n",
              "      <td>CO</td>\n",
              "      <td>SFO</td>\n",
              "      <td>IAH</td>\n",
              "      <td>3</td>\n",
              "      <td>15</td>\n",
              "      <td>205</td>\n",
              "      <td>1</td>\n",
              "    </tr>\n",
              "    <tr>\n",
              "      <th>1</th>\n",
              "      <td>US</td>\n",
              "      <td>PHX</td>\n",
              "      <td>CLT</td>\n",
              "      <td>3</td>\n",
              "      <td>15</td>\n",
              "      <td>222</td>\n",
              "      <td>1</td>\n",
              "    </tr>\n",
              "    <tr>\n",
              "      <th>2</th>\n",
              "      <td>AA</td>\n",
              "      <td>LAX</td>\n",
              "      <td>DFW</td>\n",
              "      <td>3</td>\n",
              "      <td>20</td>\n",
              "      <td>165</td>\n",
              "      <td>1</td>\n",
              "    </tr>\n",
              "    <tr>\n",
              "      <th>3</th>\n",
              "      <td>AA</td>\n",
              "      <td>SFO</td>\n",
              "      <td>DFW</td>\n",
              "      <td>3</td>\n",
              "      <td>20</td>\n",
              "      <td>195</td>\n",
              "      <td>1</td>\n",
              "    </tr>\n",
              "    <tr>\n",
              "      <th>4</th>\n",
              "      <td>AS</td>\n",
              "      <td>ANC</td>\n",
              "      <td>SEA</td>\n",
              "      <td>3</td>\n",
              "      <td>30</td>\n",
              "      <td>202</td>\n",
              "      <td>0</td>\n",
              "    </tr>\n",
              "    <tr>\n",
              "      <th>...</th>\n",
              "      <td>...</td>\n",
              "      <td>...</td>\n",
              "      <td>...</td>\n",
              "      <td>...</td>\n",
              "      <td>...</td>\n",
              "      <td>...</td>\n",
              "      <td>...</td>\n",
              "    </tr>\n",
              "    <tr>\n",
              "      <th>539363</th>\n",
              "      <td>DL</td>\n",
              "      <td>SLC</td>\n",
              "      <td>JFK</td>\n",
              "      <td>5</td>\n",
              "      <td>1425</td>\n",
              "      <td>264</td>\n",
              "      <td>1</td>\n",
              "    </tr>\n",
              "    <tr>\n",
              "      <th>539365</th>\n",
              "      <td>US</td>\n",
              "      <td>KOA</td>\n",
              "      <td>PHX</td>\n",
              "      <td>5</td>\n",
              "      <td>1425</td>\n",
              "      <td>349</td>\n",
              "      <td>1</td>\n",
              "    </tr>\n",
              "    <tr>\n",
              "      <th>539367</th>\n",
              "      <td>UA</td>\n",
              "      <td>HNL</td>\n",
              "      <td>LAX</td>\n",
              "      <td>5</td>\n",
              "      <td>1428</td>\n",
              "      <td>333</td>\n",
              "      <td>0</td>\n",
              "    </tr>\n",
              "    <tr>\n",
              "      <th>539374</th>\n",
              "      <td>DL</td>\n",
              "      <td>LAX</td>\n",
              "      <td>ATL</td>\n",
              "      <td>5</td>\n",
              "      <td>1435</td>\n",
              "      <td>255</td>\n",
              "      <td>0</td>\n",
              "    </tr>\n",
              "    <tr>\n",
              "      <th>539377</th>\n",
              "      <td>B6</td>\n",
              "      <td>JFK</td>\n",
              "      <td>PSE</td>\n",
              "      <td>5</td>\n",
              "      <td>1439</td>\n",
              "      <td>223</td>\n",
              "      <td>1</td>\n",
              "    </tr>\n",
              "  </tbody>\n",
              "</table>\n",
              "<p>315754 rows × 7 columns</p>\n",
              "</div>\n",
              "      <button class=\"colab-df-convert\" onclick=\"convertToInteractive('df-071484d9-54e7-4c3b-9012-7ba136fb04e2')\"\n",
              "              title=\"Convert this dataframe to an interactive table.\"\n",
              "              style=\"display:none;\">\n",
              "        \n",
              "  <svg xmlns=\"http://www.w3.org/2000/svg\" height=\"24px\"viewBox=\"0 0 24 24\"\n",
              "       width=\"24px\">\n",
              "    <path d=\"M0 0h24v24H0V0z\" fill=\"none\"/>\n",
              "    <path d=\"M18.56 5.44l.94 2.06.94-2.06 2.06-.94-2.06-.94-.94-2.06-.94 2.06-2.06.94zm-11 1L8.5 8.5l.94-2.06 2.06-.94-2.06-.94L8.5 2.5l-.94 2.06-2.06.94zm10 10l.94 2.06.94-2.06 2.06-.94-2.06-.94-.94-2.06-.94 2.06-2.06.94z\"/><path d=\"M17.41 7.96l-1.37-1.37c-.4-.4-.92-.59-1.43-.59-.52 0-1.04.2-1.43.59L10.3 9.45l-7.72 7.72c-.78.78-.78 2.05 0 2.83L4 21.41c.39.39.9.59 1.41.59.51 0 1.02-.2 1.41-.59l7.78-7.78 2.81-2.81c.8-.78.8-2.07 0-2.86zM5.41 20L4 18.59l7.72-7.72 1.47 1.35L5.41 20z\"/>\n",
              "  </svg>\n",
              "      </button>\n",
              "      \n",
              "  <style>\n",
              "    .colab-df-container {\n",
              "      display:flex;\n",
              "      flex-wrap:wrap;\n",
              "      gap: 12px;\n",
              "    }\n",
              "\n",
              "    .colab-df-convert {\n",
              "      background-color: #E8F0FE;\n",
              "      border: none;\n",
              "      border-radius: 50%;\n",
              "      cursor: pointer;\n",
              "      display: none;\n",
              "      fill: #1967D2;\n",
              "      height: 32px;\n",
              "      padding: 0 0 0 0;\n",
              "      width: 32px;\n",
              "    }\n",
              "\n",
              "    .colab-df-convert:hover {\n",
              "      background-color: #E2EBFA;\n",
              "      box-shadow: 0px 1px 2px rgba(60, 64, 67, 0.3), 0px 1px 3px 1px rgba(60, 64, 67, 0.15);\n",
              "      fill: #174EA6;\n",
              "    }\n",
              "\n",
              "    [theme=dark] .colab-df-convert {\n",
              "      background-color: #3B4455;\n",
              "      fill: #D2E3FC;\n",
              "    }\n",
              "\n",
              "    [theme=dark] .colab-df-convert:hover {\n",
              "      background-color: #434B5C;\n",
              "      box-shadow: 0px 1px 3px 1px rgba(0, 0, 0, 0.15);\n",
              "      filter: drop-shadow(0px 1px 2px rgba(0, 0, 0, 0.3));\n",
              "      fill: #FFFFFF;\n",
              "    }\n",
              "  </style>\n",
              "\n",
              "      <script>\n",
              "        const buttonEl =\n",
              "          document.querySelector('#df-071484d9-54e7-4c3b-9012-7ba136fb04e2 button.colab-df-convert');\n",
              "        buttonEl.style.display =\n",
              "          google.colab.kernel.accessAllowed ? 'block' : 'none';\n",
              "\n",
              "        async function convertToInteractive(key) {\n",
              "          const element = document.querySelector('#df-071484d9-54e7-4c3b-9012-7ba136fb04e2');\n",
              "          const dataTable =\n",
              "            await google.colab.kernel.invokeFunction('convertToInteractive',\n",
              "                                                     [key], {});\n",
              "          if (!dataTable) return;\n",
              "\n",
              "          const docLinkHtml = 'Like what you see? Visit the ' +\n",
              "            '<a target=\"_blank\" href=https://colab.research.google.com/notebooks/data_table.ipynb>data table notebook</a>'\n",
              "            + ' to learn more about interactive tables.';\n",
              "          element.innerHTML = '';\n",
              "          dataTable['output_type'] = 'display_data';\n",
              "          await google.colab.output.renderOutput(dataTable, element);\n",
              "          const docLink = document.createElement('div');\n",
              "          docLink.innerHTML = docLinkHtml;\n",
              "          element.appendChild(docLink);\n",
              "        }\n",
              "      </script>\n",
              "    </div>\n",
              "  </div>\n",
              "  "
            ]
          },
          "metadata": {},
          "execution_count": 2
        }
      ]
    },
    {
      "cell_type": "code",
      "source": [
        "details = df.apply(lambda x : True\n",
        "            if x['Airline'] == 'AA' and x['AirportFrom'] == '' else False, axis = 1"
      ],
      "metadata": {
        "id": "Q_NTzBkgsG1G"
      },
      "execution_count": null,
      "outputs": []
    },
    {
      "cell_type": "code",
      "source": [
        "column_one = 'Airline'\n",
        "column_two = 'Delay'\n",
        "column_sv_one = 'DL'\n",
        "column_sv_two= 1\n",
        "search_conditions = 2\n",
        "\n",
        "if search_conditions == 1:\n",
        "  details = df.apply(lambda x : True\n",
        "            if x[column_one] == column_sv_one else False, axis = 1)\n",
        "else:\n",
        "  details = df.apply(lambda x : True\n",
        "            if x[column_one] == column_sv_one and x[column_two] == column_sv_two else False, axis = 1)   \n",
        "\n",
        "num_rows = len(details[details == True].index)\n",
        "\n",
        "if search_conditions == 1: \n",
        "   print('Number of Rows in dataframe in which ' + column_one + ' is ' + str(column_sv_one) + ': ', num_rows )\n",
        "else:\n",
        "  print('Number of Rows in dataframe in which ' + column_one + ' is ' + str(column_sv_one) + ' and ' + column_two + ' is ' + str(column_sv_two) + ': ', num_rows )"
      ],
      "metadata": {
        "colab": {
          "base_uri": "https://localhost:8080/"
        },
        "id": "OovGHqG1L5xv",
        "outputId": "27a616c7-7b08-458f-a304-f047013d063a"
      },
      "execution_count": null,
      "outputs": [
        {
          "output_type": "stream",
          "name": "stdout",
          "text": [
            "Number of Rows in dataframe in which Airline is DL and Delay is 1:  27452\n"
          ]
        }
      ]
    },
    {
      "cell_type": "markdown",
      "source": [
        "Number of Rows in dataframe in which Airline is AA:  45656\n",
        "\n",
        "Number of Rows in dataframe in which Airline is DL:  60940\n",
        "\n",
        "Number of Rows in dataframe in which Airline is UA:  27619\n",
        "\n",
        "Number of Rows in dataframe in which DayOfWeek is 1:  17965\n",
        "\n",
        "Number of Rows in dataframe in which DayOfWeek is 2:  17665\n",
        "\n",
        "Number of Rows in dataframe in which DayOfWeek is 3:  22226\n",
        "\n",
        "Number of Rows in dataframe in which DayOfWeek is 4:  22502\n",
        "\n",
        "Number of Rows in dataframe in which DayOfWeek is 5:  21229\n",
        "\n",
        "Number of Rows in dataframe in which DayOfWeek is 6:  15124\n",
        "\n",
        "Number of Rows in dataframe in which DayOfWeek is 7:  17504\n",
        "\n",
        "Number of Rows in dataframe in which DayOfWeek is 7 and Airline is AA:  5969\n",
        "\n",
        "Number of Rows in dataframe in which DayOfWeek is 7 and Airline is DL:  7952\n",
        "\n",
        "Number of Rows in dataframe in which Airline is AA and Delay is 0:  27920\n",
        "\n",
        "Number of Rows in dataframe in which Airline is AA and Delay is 1:  17736\n",
        "\n",
        "Number of Rows in dataframe in which Airline is DL and Delay is 0:  33488\n",
        "\n",
        "Number of Rows in dataframe in which Airline is DL and Delay is 1:  27452\n",
        "\n",
        "\n"
      ],
      "metadata": {
        "id": "BtYyjlNTNnBs"
      }
    },
    {
      "cell_type": "code",
      "source": [
        "#print(df['Airline'].value_counts()['AA']) # 45,656 Records For American Airlines Flights\n",
        "#print(df['Airline'].value_counts()['DL']) # 60,940 Records For Delta Airlines Flight\n",
        "#print(df['Delay'].value_counts()[0])  # 80,081 Non-Delayed Flights\n",
        "#print(df['Delay'].value_counts()[1])  # 54,134 Delayed Flights\n",
        "#print(df['DayOfWeek'].value_counts().unique) # Unique Days of Week 1-7"
      ],
      "metadata": {
        "colab": {
          "base_uri": "https://localhost:8080/"
        },
        "id": "UtCdzDS8x1mq",
        "outputId": "38c64cf9-780f-4352-ad15-b8bbe55a0066"
      },
      "execution_count": null,
      "outputs": [
        {
          "output_type": "stream",
          "name": "stdout",
          "text": [
            "45656\n"
          ]
        }
      ]
    },
    {
      "cell_type": "code",
      "source": [
        "# Transform DayOfWeek Value To String Representation\n",
        "df['DayOfWeek'] = df['DayOfWeek'].replace([1,2,3,4,5,6,7],['Monday','Tuesday','Wednesday','Thursday','Friday','Saturday','Sunday'])\n",
        "#print(df['DayOfWeek'].value_counts().unique)\n",
        "#print(df['AirportFrom'].value_counts().unique)"
      ],
      "metadata": {
        "id": "llRUdbaAPNH6"
      },
      "execution_count": 3,
      "outputs": []
    },
    {
      "cell_type": "code",
      "source": [
        "common_airports_list = ['ATL','DFW','DEN','ORD','LAX','CLT','LAS','PHX','MCO','SEA','MIA','IAH','JFK','FLL','EWR','SFO']\n",
        "common_airports_df = df[df['AirportFrom'].isin(common_airports_list)]\n",
        "common_airports_df.head(10)\n",
        "common_airports_df.count #75916\n",
        "count_delayed = common_airports_df[common_airports_df['Delay'].isin([1])]\n",
        "count_delayed.count #31996\n",
        "\n",
        "df_to_use = common_airports_df\n",
        "#df_to_use = df\n"
      ],
      "metadata": {
        "id": "hPkUkFT6uypv"
      },
      "execution_count": 3,
      "outputs": []
    },
    {
      "cell_type": "code",
      "source": [
        "# Check if NaN values present in any input columns\n",
        "df.columns[df.isna().any()]"
      ],
      "metadata": {
        "colab": {
          "base_uri": "https://localhost:8080/"
        },
        "id": "n8YvE1V_x7jc",
        "outputId": "3ed93b35-cffa-442a-ebfa-efef0084d052"
      },
      "execution_count": 5,
      "outputs": [
        {
          "output_type": "execute_result",
          "data": {
            "text/plain": [
              "Index([], dtype='object')"
            ]
          },
          "metadata": {},
          "execution_count": 5
        }
      ]
    },
    {
      "cell_type": "code",
      "source": [
        "# Encode Non-numeric Classifiers for Calculations\n",
        "airline_dummies = pd.get_dummies(df_to_use.Airline)\n",
        "airport_from_dummies = pd.get_dummies(df_to_use.AirportFrom)\n",
        "#airport_to_dummies = pd.get_dummies(df_to_use.AirportTo)\n",
        "#day_of_week_dummies = pd.get_dummies(df_to_use.DayOfWeek)\n",
        "\n",
        "# Concat Dummies\n",
        "#model_input_x = pd.concat([df_to_use,airline_dummies], axis='columns')\n",
        "#model_input_x = pd.concat([df_to_use,airline_dummies,airport_from_dummies], axis='columns')\n",
        "model_input_x = pd.concat([df_to_use,airline_dummies,airport_from_dummies], axis='columns')\n",
        "#model_input_x = pd.concat([df_to_use,airline_dummies,airport_from_dummies,day_of_week_dummies], axis='columns')\n",
        "#model_input_x = pd.concat([df_to_use,airline_dummies,airport_from_dummies,airport_to_dummies,day_of_week_dummies], axis='columns')\n",
        "# Drop the Plain Text Version of the Columns for Modeling\n",
        "model_input_x.drop(['Airline', 'AirportFrom', 'AirportTo'], axis='columns', inplace=True)\n",
        "#model_input_x.drop(['Airline', 'AirportFrom', 'AirportTo', 'DayOfWeek', 'Saturday', 'Sunday'], axis='columns', inplace=True)\n",
        "#model_input_x.drop(['Airline', 'AirportFrom', 'AirportTo', 'DayOfWeek'], axis='columns', inplace=True)\n",
        "target_y = df_to_use['Delay'] # Set Delay As Target Value Y\n",
        "model_input_x.drop(['Delay'], axis='columns', inplace=True) # Drop Delay Column From Model Input X\n",
        "model_input_x.head(10)"
      ],
      "metadata": {
        "colab": {
          "base_uri": "https://localhost:8080/",
          "height": 392
        },
        "id": "pQxPiLgq9jkV",
        "outputId": "dc58fb12-23b5-4b93-a1f6-e7eee395586c"
      },
      "execution_count": 4,
      "outputs": [
        {
          "output_type": "execute_result",
          "data": {
            "text/plain": [
              "    DayOfWeek  Time  Length  9E  AA  AS  B6  CO  DL  EV  ...  IAH  JFK  LAS  \\\n",
              "0           3    15     205   0   0   0   0   1   0   0  ...    0    0    0   \n",
              "1           3    15     222   0   0   0   0   0   0   0  ...    0    0    0   \n",
              "2           3    20     165   0   1   0   0   0   0   0  ...    0    0    0   \n",
              "3           3    20     195   0   1   0   0   0   0   0  ...    0    0    0   \n",
              "5           3    30     181   0   0   0   0   1   0   0  ...    0    0    0   \n",
              "6           3    30     220   0   0   0   0   0   1   0  ...    0    0    0   \n",
              "7           3    30     228   0   0   0   0   0   1   0  ...    0    0    0   \n",
              "8           3    35     216   0   0   0   0   0   1   0  ...    0    0    0   \n",
              "9           3    40     200   0   1   0   0   0   0   0  ...    0    0    1   \n",
              "11          3    50     212   0   0   0   0   0   1   0  ...    0    0    0   \n",
              "\n",
              "    LAX  MCO  MIA  ORD  PHX  SEA  SFO  \n",
              "0     0    0    0    0    0    0    1  \n",
              "1     0    0    0    0    1    0    0  \n",
              "2     1    0    0    0    0    0    0  \n",
              "3     0    0    0    0    0    0    1  \n",
              "5     1    0    0    0    0    0    0  \n",
              "6     1    0    0    0    0    0    0  \n",
              "7     0    0    0    0    1    0    0  \n",
              "8     0    0    0    0    0    0    1  \n",
              "9     0    0    0    0    0    0    0  \n",
              "11    0    0    0    0    1    0    0  \n",
              "\n",
              "[10 rows x 37 columns]"
            ],
            "text/html": [
              "\n",
              "  <div id=\"df-38a0417a-0be1-4244-8c7e-3ac31e771ab9\">\n",
              "    <div class=\"colab-df-container\">\n",
              "      <div>\n",
              "<style scoped>\n",
              "    .dataframe tbody tr th:only-of-type {\n",
              "        vertical-align: middle;\n",
              "    }\n",
              "\n",
              "    .dataframe tbody tr th {\n",
              "        vertical-align: top;\n",
              "    }\n",
              "\n",
              "    .dataframe thead th {\n",
              "        text-align: right;\n",
              "    }\n",
              "</style>\n",
              "<table border=\"1\" class=\"dataframe\">\n",
              "  <thead>\n",
              "    <tr style=\"text-align: right;\">\n",
              "      <th></th>\n",
              "      <th>DayOfWeek</th>\n",
              "      <th>Time</th>\n",
              "      <th>Length</th>\n",
              "      <th>9E</th>\n",
              "      <th>AA</th>\n",
              "      <th>AS</th>\n",
              "      <th>B6</th>\n",
              "      <th>CO</th>\n",
              "      <th>DL</th>\n",
              "      <th>EV</th>\n",
              "      <th>...</th>\n",
              "      <th>IAH</th>\n",
              "      <th>JFK</th>\n",
              "      <th>LAS</th>\n",
              "      <th>LAX</th>\n",
              "      <th>MCO</th>\n",
              "      <th>MIA</th>\n",
              "      <th>ORD</th>\n",
              "      <th>PHX</th>\n",
              "      <th>SEA</th>\n",
              "      <th>SFO</th>\n",
              "    </tr>\n",
              "  </thead>\n",
              "  <tbody>\n",
              "    <tr>\n",
              "      <th>0</th>\n",
              "      <td>3</td>\n",
              "      <td>15</td>\n",
              "      <td>205</td>\n",
              "      <td>0</td>\n",
              "      <td>0</td>\n",
              "      <td>0</td>\n",
              "      <td>0</td>\n",
              "      <td>1</td>\n",
              "      <td>0</td>\n",
              "      <td>0</td>\n",
              "      <td>...</td>\n",
              "      <td>0</td>\n",
              "      <td>0</td>\n",
              "      <td>0</td>\n",
              "      <td>0</td>\n",
              "      <td>0</td>\n",
              "      <td>0</td>\n",
              "      <td>0</td>\n",
              "      <td>0</td>\n",
              "      <td>0</td>\n",
              "      <td>1</td>\n",
              "    </tr>\n",
              "    <tr>\n",
              "      <th>1</th>\n",
              "      <td>3</td>\n",
              "      <td>15</td>\n",
              "      <td>222</td>\n",
              "      <td>0</td>\n",
              "      <td>0</td>\n",
              "      <td>0</td>\n",
              "      <td>0</td>\n",
              "      <td>0</td>\n",
              "      <td>0</td>\n",
              "      <td>0</td>\n",
              "      <td>...</td>\n",
              "      <td>0</td>\n",
              "      <td>0</td>\n",
              "      <td>0</td>\n",
              "      <td>0</td>\n",
              "      <td>0</td>\n",
              "      <td>0</td>\n",
              "      <td>0</td>\n",
              "      <td>1</td>\n",
              "      <td>0</td>\n",
              "      <td>0</td>\n",
              "    </tr>\n",
              "    <tr>\n",
              "      <th>2</th>\n",
              "      <td>3</td>\n",
              "      <td>20</td>\n",
              "      <td>165</td>\n",
              "      <td>0</td>\n",
              "      <td>1</td>\n",
              "      <td>0</td>\n",
              "      <td>0</td>\n",
              "      <td>0</td>\n",
              "      <td>0</td>\n",
              "      <td>0</td>\n",
              "      <td>...</td>\n",
              "      <td>0</td>\n",
              "      <td>0</td>\n",
              "      <td>0</td>\n",
              "      <td>1</td>\n",
              "      <td>0</td>\n",
              "      <td>0</td>\n",
              "      <td>0</td>\n",
              "      <td>0</td>\n",
              "      <td>0</td>\n",
              "      <td>0</td>\n",
              "    </tr>\n",
              "    <tr>\n",
              "      <th>3</th>\n",
              "      <td>3</td>\n",
              "      <td>20</td>\n",
              "      <td>195</td>\n",
              "      <td>0</td>\n",
              "      <td>1</td>\n",
              "      <td>0</td>\n",
              "      <td>0</td>\n",
              "      <td>0</td>\n",
              "      <td>0</td>\n",
              "      <td>0</td>\n",
              "      <td>...</td>\n",
              "      <td>0</td>\n",
              "      <td>0</td>\n",
              "      <td>0</td>\n",
              "      <td>0</td>\n",
              "      <td>0</td>\n",
              "      <td>0</td>\n",
              "      <td>0</td>\n",
              "      <td>0</td>\n",
              "      <td>0</td>\n",
              "      <td>1</td>\n",
              "    </tr>\n",
              "    <tr>\n",
              "      <th>5</th>\n",
              "      <td>3</td>\n",
              "      <td>30</td>\n",
              "      <td>181</td>\n",
              "      <td>0</td>\n",
              "      <td>0</td>\n",
              "      <td>0</td>\n",
              "      <td>0</td>\n",
              "      <td>1</td>\n",
              "      <td>0</td>\n",
              "      <td>0</td>\n",
              "      <td>...</td>\n",
              "      <td>0</td>\n",
              "      <td>0</td>\n",
              "      <td>0</td>\n",
              "      <td>1</td>\n",
              "      <td>0</td>\n",
              "      <td>0</td>\n",
              "      <td>0</td>\n",
              "      <td>0</td>\n",
              "      <td>0</td>\n",
              "      <td>0</td>\n",
              "    </tr>\n",
              "    <tr>\n",
              "      <th>6</th>\n",
              "      <td>3</td>\n",
              "      <td>30</td>\n",
              "      <td>220</td>\n",
              "      <td>0</td>\n",
              "      <td>0</td>\n",
              "      <td>0</td>\n",
              "      <td>0</td>\n",
              "      <td>0</td>\n",
              "      <td>1</td>\n",
              "      <td>0</td>\n",
              "      <td>...</td>\n",
              "      <td>0</td>\n",
              "      <td>0</td>\n",
              "      <td>0</td>\n",
              "      <td>1</td>\n",
              "      <td>0</td>\n",
              "      <td>0</td>\n",
              "      <td>0</td>\n",
              "      <td>0</td>\n",
              "      <td>0</td>\n",
              "      <td>0</td>\n",
              "    </tr>\n",
              "    <tr>\n",
              "      <th>7</th>\n",
              "      <td>3</td>\n",
              "      <td>30</td>\n",
              "      <td>228</td>\n",
              "      <td>0</td>\n",
              "      <td>0</td>\n",
              "      <td>0</td>\n",
              "      <td>0</td>\n",
              "      <td>0</td>\n",
              "      <td>1</td>\n",
              "      <td>0</td>\n",
              "      <td>...</td>\n",
              "      <td>0</td>\n",
              "      <td>0</td>\n",
              "      <td>0</td>\n",
              "      <td>0</td>\n",
              "      <td>0</td>\n",
              "      <td>0</td>\n",
              "      <td>0</td>\n",
              "      <td>1</td>\n",
              "      <td>0</td>\n",
              "      <td>0</td>\n",
              "    </tr>\n",
              "    <tr>\n",
              "      <th>8</th>\n",
              "      <td>3</td>\n",
              "      <td>35</td>\n",
              "      <td>216</td>\n",
              "      <td>0</td>\n",
              "      <td>0</td>\n",
              "      <td>0</td>\n",
              "      <td>0</td>\n",
              "      <td>0</td>\n",
              "      <td>1</td>\n",
              "      <td>0</td>\n",
              "      <td>...</td>\n",
              "      <td>0</td>\n",
              "      <td>0</td>\n",
              "      <td>0</td>\n",
              "      <td>0</td>\n",
              "      <td>0</td>\n",
              "      <td>0</td>\n",
              "      <td>0</td>\n",
              "      <td>0</td>\n",
              "      <td>0</td>\n",
              "      <td>1</td>\n",
              "    </tr>\n",
              "    <tr>\n",
              "      <th>9</th>\n",
              "      <td>3</td>\n",
              "      <td>40</td>\n",
              "      <td>200</td>\n",
              "      <td>0</td>\n",
              "      <td>1</td>\n",
              "      <td>0</td>\n",
              "      <td>0</td>\n",
              "      <td>0</td>\n",
              "      <td>0</td>\n",
              "      <td>0</td>\n",
              "      <td>...</td>\n",
              "      <td>0</td>\n",
              "      <td>0</td>\n",
              "      <td>1</td>\n",
              "      <td>0</td>\n",
              "      <td>0</td>\n",
              "      <td>0</td>\n",
              "      <td>0</td>\n",
              "      <td>0</td>\n",
              "      <td>0</td>\n",
              "      <td>0</td>\n",
              "    </tr>\n",
              "    <tr>\n",
              "      <th>11</th>\n",
              "      <td>3</td>\n",
              "      <td>50</td>\n",
              "      <td>212</td>\n",
              "      <td>0</td>\n",
              "      <td>0</td>\n",
              "      <td>0</td>\n",
              "      <td>0</td>\n",
              "      <td>0</td>\n",
              "      <td>1</td>\n",
              "      <td>0</td>\n",
              "      <td>...</td>\n",
              "      <td>0</td>\n",
              "      <td>0</td>\n",
              "      <td>0</td>\n",
              "      <td>0</td>\n",
              "      <td>0</td>\n",
              "      <td>0</td>\n",
              "      <td>0</td>\n",
              "      <td>1</td>\n",
              "      <td>0</td>\n",
              "      <td>0</td>\n",
              "    </tr>\n",
              "  </tbody>\n",
              "</table>\n",
              "<p>10 rows × 37 columns</p>\n",
              "</div>\n",
              "      <button class=\"colab-df-convert\" onclick=\"convertToInteractive('df-38a0417a-0be1-4244-8c7e-3ac31e771ab9')\"\n",
              "              title=\"Convert this dataframe to an interactive table.\"\n",
              "              style=\"display:none;\">\n",
              "        \n",
              "  <svg xmlns=\"http://www.w3.org/2000/svg\" height=\"24px\"viewBox=\"0 0 24 24\"\n",
              "       width=\"24px\">\n",
              "    <path d=\"M0 0h24v24H0V0z\" fill=\"none\"/>\n",
              "    <path d=\"M18.56 5.44l.94 2.06.94-2.06 2.06-.94-2.06-.94-.94-2.06-.94 2.06-2.06.94zm-11 1L8.5 8.5l.94-2.06 2.06-.94-2.06-.94L8.5 2.5l-.94 2.06-2.06.94zm10 10l.94 2.06.94-2.06 2.06-.94-2.06-.94-.94-2.06-.94 2.06-2.06.94z\"/><path d=\"M17.41 7.96l-1.37-1.37c-.4-.4-.92-.59-1.43-.59-.52 0-1.04.2-1.43.59L10.3 9.45l-7.72 7.72c-.78.78-.78 2.05 0 2.83L4 21.41c.39.39.9.59 1.41.59.51 0 1.02-.2 1.41-.59l7.78-7.78 2.81-2.81c.8-.78.8-2.07 0-2.86zM5.41 20L4 18.59l7.72-7.72 1.47 1.35L5.41 20z\"/>\n",
              "  </svg>\n",
              "      </button>\n",
              "      \n",
              "  <style>\n",
              "    .colab-df-container {\n",
              "      display:flex;\n",
              "      flex-wrap:wrap;\n",
              "      gap: 12px;\n",
              "    }\n",
              "\n",
              "    .colab-df-convert {\n",
              "      background-color: #E8F0FE;\n",
              "      border: none;\n",
              "      border-radius: 50%;\n",
              "      cursor: pointer;\n",
              "      display: none;\n",
              "      fill: #1967D2;\n",
              "      height: 32px;\n",
              "      padding: 0 0 0 0;\n",
              "      width: 32px;\n",
              "    }\n",
              "\n",
              "    .colab-df-convert:hover {\n",
              "      background-color: #E2EBFA;\n",
              "      box-shadow: 0px 1px 2px rgba(60, 64, 67, 0.3), 0px 1px 3px 1px rgba(60, 64, 67, 0.15);\n",
              "      fill: #174EA6;\n",
              "    }\n",
              "\n",
              "    [theme=dark] .colab-df-convert {\n",
              "      background-color: #3B4455;\n",
              "      fill: #D2E3FC;\n",
              "    }\n",
              "\n",
              "    [theme=dark] .colab-df-convert:hover {\n",
              "      background-color: #434B5C;\n",
              "      box-shadow: 0px 1px 3px 1px rgba(0, 0, 0, 0.15);\n",
              "      filter: drop-shadow(0px 1px 2px rgba(0, 0, 0, 0.3));\n",
              "      fill: #FFFFFF;\n",
              "    }\n",
              "  </style>\n",
              "\n",
              "      <script>\n",
              "        const buttonEl =\n",
              "          document.querySelector('#df-38a0417a-0be1-4244-8c7e-3ac31e771ab9 button.colab-df-convert');\n",
              "        buttonEl.style.display =\n",
              "          google.colab.kernel.accessAllowed ? 'block' : 'none';\n",
              "\n",
              "        async function convertToInteractive(key) {\n",
              "          const element = document.querySelector('#df-38a0417a-0be1-4244-8c7e-3ac31e771ab9');\n",
              "          const dataTable =\n",
              "            await google.colab.kernel.invokeFunction('convertToInteractive',\n",
              "                                                     [key], {});\n",
              "          if (!dataTable) return;\n",
              "\n",
              "          const docLinkHtml = 'Like what you see? Visit the ' +\n",
              "            '<a target=\"_blank\" href=https://colab.research.google.com/notebooks/data_table.ipynb>data table notebook</a>'\n",
              "            + ' to learn more about interactive tables.';\n",
              "          element.innerHTML = '';\n",
              "          dataTable['output_type'] = 'display_data';\n",
              "          await google.colab.output.renderOutput(dataTable, element);\n",
              "          const docLink = document.createElement('div');\n",
              "          docLink.innerHTML = docLinkHtml;\n",
              "          element.appendChild(docLink);\n",
              "        }\n",
              "      </script>\n",
              "    </div>\n",
              "  </div>\n",
              "  "
            ]
          },
          "metadata": {},
          "execution_count": 4
        }
      ]
    },
    {
      "cell_type": "code",
      "source": [
        "seed = 42\n",
        "X_train, X_test, y_train, y_test = train_test_split(model_input_x, target_y, test_size=0.20, random_state=seed)\n",
        "\n",
        "print(f'X_train : {X_train.shape}')\n",
        "print(f'y_train : {y_train.shape}')\n",
        "print(f'X_test : {X_test.shape}')\n",
        "print(f'y_test : {y_test.shape}')"
      ],
      "metadata": {
        "colab": {
          "base_uri": "https://localhost:8080/"
        },
        "id": "dFQI4P8JB4jP",
        "outputId": "63747288-5f7a-493b-f557-1992b236e630"
      },
      "execution_count": 5,
      "outputs": [
        {
          "output_type": "stream",
          "name": "stdout",
          "text": [
            "X_train : (187572, 37)\n",
            "y_train : (187572,)\n",
            "X_test : (46894, 37)\n",
            "y_test : (46894,)\n"
          ]
        }
      ]
    },
    {
      "cell_type": "code",
      "source": [
        "ext_gradient_boost_model = XGBClassifier(eta=0.3, gama=0, scale_pos_weight=1.15) # defaul eta = 0.3, default gama = 0 (controls model overfitting) default scale_pos_weight = 1\n",
        "ext_gradient_boost_model.fit(X_train, y_train)"
      ],
      "metadata": {
        "colab": {
          "base_uri": "https://localhost:8080/"
        },
        "id": "j-Hi-YY4iNWx",
        "outputId": "ef4e8686-f762-4341-be1e-52ed693ab033"
      },
      "execution_count": 13,
      "outputs": [
        {
          "output_type": "execute_result",
          "data": {
            "text/plain": [
              "XGBClassifier(eta=0.3, gama=0, scale_pos_weight=1.15)"
            ]
          },
          "metadata": {},
          "execution_count": 13
        }
      ]
    },
    {
      "cell_type": "code",
      "source": [
        "y_pred = ext_gradient_boost_model.predict(X_test)\n",
        "\n",
        "print(f'Train Accuracy -: {ext_gradient_boost_model.score(X_train, y_train):.3f}')\n",
        "print(f'Test Accuracy -: {ext_gradient_boost_model.score(X_test, y_test):.3f}')\n",
        "print(\"ACCURACY OF THE MODEL: \", metrics.accuracy_score(y_test, y_pred))"
      ],
      "metadata": {
        "colab": {
          "base_uri": "https://localhost:8080/"
        },
        "id": "_bygvldJol_B",
        "outputId": "7fa111e6-a310-4968-b7e6-8168acea2358"
      },
      "execution_count": 15,
      "outputs": [
        {
          "output_type": "stream",
          "name": "stdout",
          "text": [
            "Train Accuracy -: 0.630\n",
            "Test Accuracy -: 0.635\n",
            "ACCURACY OF THE MODEL:  0.6348146884462831\n"
          ]
        }
      ]
    },
    {
      "cell_type": "code",
      "source": [
        "random_forest_model = RandomForestClassifier(n_estimators=100)\n",
        "random_forest_model.fit(X_train, y_train)"
      ],
      "metadata": {
        "colab": {
          "base_uri": "https://localhost:8080/"
        },
        "id": "TArgOTXEDOOm",
        "outputId": "524f128b-60d7-4e54-874f-5dd6c13e5458"
      },
      "execution_count": 6,
      "outputs": [
        {
          "output_type": "execute_result",
          "data": {
            "text/plain": [
              "RandomForestClassifier()"
            ]
          },
          "metadata": {},
          "execution_count": 6
        }
      ]
    },
    {
      "cell_type": "code",
      "source": [
        "#random_forest_model.oob_score_\n",
        "y_pred = random_forest_model.predict(X_test)\n",
        "print(f'Train Accuracy -: {random_forest_model.score(X_train, y_train):.3f}')\n",
        "print(f'Test Accuracy -: {random_forest_model.score(X_test, y_test):.3f}')\n",
        "print(\"ACCURACY OF THE MODEL: \", metrics.accuracy_score(y_test, y_pred))\n",
        "#random_forest_model.feature_importances_"
      ],
      "metadata": {
        "colab": {
          "base_uri": "https://localhost:8080/"
        },
        "id": "31_zq3A1Dvj5",
        "outputId": "fe0d0826-e5ed-4a24-97bf-c9f14a6eae3b"
      },
      "execution_count": 7,
      "outputs": [
        {
          "output_type": "stream",
          "name": "stdout",
          "text": [
            "Train Accuracy -: 0.806\n",
            "Test Accuracy -: 0.602\n",
            "ACCURACY OF THE MODEL:  0.6016121465432678\n"
          ]
        }
      ]
    },
    {
      "cell_type": "code",
      "source": [
        "with open('rf1_model_pkl', 'wb') as files:\n",
        "    pickle.dump(random_forest_model, files)"
      ],
      "metadata": {
        "id": "pNlj1R8f13oO"
      },
      "execution_count": 8,
      "outputs": []
    },
    {
      "cell_type": "markdown",
      "source": [
        "# New Section"
      ],
      "metadata": {
        "id": "WEZ0f0zi2LCO"
      }
    },
    {
      "cell_type": "code",
      "source": [
        "from imblearn.under_sampling import RandomUnderSampler\n",
        "\n",
        "random_under_sampler = RandomUnderSampler(sampling_strategy=1)\n",
        "x = np.array(model_input_x)\n",
        "y = target_y\n",
        "x_res, y_res = random_under_sampler.fit_resample(x,y)"
      ],
      "metadata": {
        "id": "jC5qjJ6iQiYf"
      },
      "execution_count": null,
      "outputs": []
    },
    {
      "cell_type": "code",
      "source": [
        "# Create Logistic Regression Model\n",
        "log_reg_model = LogisticRegression(solver='liblinear')\n",
        "#log_reg_model.fit(model_input_x, target_y)\n",
        "#log_reg_model.score(model_input_x, target_y)\n",
        "log_reg_model.fit(x_res, y_res)\n",
        "log_reg_model.score(x_res, y_res)"
      ],
      "metadata": {
        "colab": {
          "base_uri": "https://localhost:8080/"
        },
        "id": "r0JbYXMoF7ba",
        "outputId": "256851be-37c9-4135-8d12-7ab8449cdd15"
      },
      "execution_count": null,
      "outputs": [
        {
          "output_type": "execute_result",
          "data": {
            "text/plain": [
              "0.5381922740342543"
            ]
          },
          "metadata": {},
          "execution_count": 57
        }
      ]
    },
    {
      "cell_type": "code",
      "source": [
        "#print(classification_report(target_y, log_reg_model.predict(model_input_x)))\n",
        "print(classification_report(y_res, log_reg_model.predict(x_res)))"
      ],
      "metadata": {
        "colab": {
          "base_uri": "https://localhost:8080/"
        },
        "id": "kKjrq4-_MTne",
        "outputId": "3359a898-40f2-491f-b3e2-c1f826698296"
      },
      "execution_count": null,
      "outputs": [
        {
          "output_type": "stream",
          "name": "stdout",
          "text": [
            "              precision    recall  f1-score   support\n",
            "\n",
            "           0       0.58      0.41      0.48     31996\n",
            "           1       0.54      0.70      0.61     31996\n",
            "\n",
            "    accuracy                           0.55     63992\n",
            "   macro avg       0.56      0.55      0.55     63992\n",
            "weighted avg       0.56      0.55      0.55     63992\n",
            "\n"
          ]
        }
      ]
    },
    {
      "cell_type": "code",
      "source": [
        "print(pd.DataFrame(x_res).head)"
      ],
      "metadata": {
        "colab": {
          "base_uri": "https://localhost:8080/"
        },
        "id": "B_AXf8uejdYl",
        "outputId": "615fe63a-c1a0-4233-8d68-6b59f6a2a9fe"
      },
      "execution_count": null,
      "outputs": [
        {
          "output_type": "stream",
          "name": "stdout",
          "text": [
            "<bound method NDFrame.head of         0    1    2    3    4    5    6    7    8    9    ...  601  602  603  \\\n",
            "0         0    0    0    0    0    0    0    0    0    0  ...    0    0    0   \n",
            "1         0    0    0    0    0    0    0    0    0    0  ...    0    0    0   \n",
            "2         0    0    0    0    0    0    0    0    0    0  ...    0    0    0   \n",
            "3         0    0    0    0    0    0    0    0    0    0  ...    0    0    0   \n",
            "4         0    0    0    0    0    1    0    0    0    0  ...    0    0    0   \n",
            "...     ...  ...  ...  ...  ...  ...  ...  ...  ...  ...  ...  ...  ...  ...   \n",
            "480523    0    0    0    1    0    0    0    0    0    0  ...    0    0    0   \n",
            "480524    0    0    0    1    0    0    0    0    0    0  ...    0    0    0   \n",
            "480525    0    0    0    1    0    0    0    0    0    0  ...    0    0    0   \n",
            "480526    0    0    0    0    0    0    0    0    0    0  ...    0    0    0   \n",
            "480527    0    0    0    0    0    0    0    0    0    0  ...    0    0    0   \n",
            "\n",
            "        604  605  606  607  608  609  610  \n",
            "0         0    0    0    0    0    0    1  \n",
            "1         0    0    0    0    1    0    0  \n",
            "2         0    0    0    0    1    0    0  \n",
            "3         0    1    0    0    0    0    0  \n",
            "4         0    0    0    0    0    1    0  \n",
            "...     ...  ...  ...  ...  ...  ...  ...  \n",
            "480523    1    0    0    0    0    0    0  \n",
            "480524    1    0    0    0    0    0    0  \n",
            "480525    1    0    0    0    0    0    0  \n",
            "480526    1    0    0    0    0    0    0  \n",
            "480527    1    0    0    0    0    0    0  \n",
            "\n",
            "[480528 rows x 611 columns]>\n"
          ]
        }
      ]
    }
  ]
}